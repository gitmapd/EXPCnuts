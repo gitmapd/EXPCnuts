{
 "cells": [
  {
   "cell_type": "code",
   "execution_count": 3,
   "metadata": {},
   "outputs": [],
   "source": [
    "import sys"
   ]
  },
  {
   "cell_type": "code",
   "execution_count": 5,
   "metadata": {},
   "outputs": [
    {
     "name": "stdout",
     "output_type": "stream",
     "text": [
      "Collecting ipycanvas\n",
      "  Using cached https://files.pythonhosted.org/packages/e1/1d/16f55e3690e532f00618b0ca5232b2327299e1491e004e0425ea52592734/ipycanvas-0.4.4-py2.py3-none-any.whl\n",
      "Collecting pillow>=6.0 (from ipycanvas)\n",
      "  Using cached https://files.pythonhosted.org/packages/f5/79/b2d5695d1a931474fa68b68ec93bdf08ba9acbc4d6b3b628eb6aac81d11c/Pillow-7.0.0-cp37-cp37m-manylinux1_x86_64.whl\n",
      "Requirement already satisfied: numpy in /home/marco/.local/lib/python3.7/site-packages (from ipycanvas) (1.18.2)\n",
      "Requirement already satisfied: ipywidgets>=7.5.0 in /home/marco/.local/lib/python3.7/site-packages (from ipycanvas) (7.5.1)\n",
      "Requirement already satisfied: widgetsnbextension~=3.5.0 in /home/marco/.local/lib/python3.7/site-packages (from ipywidgets>=7.5.0->ipycanvas) (3.5.1)\n",
      "Requirement already satisfied: traitlets>=4.3.1 in /home/marco/.local/lib/python3.7/site-packages (from ipywidgets>=7.5.0->ipycanvas) (4.3.3)\n",
      "Requirement already satisfied: ipykernel>=4.5.1 in /home/marco/.local/lib/python3.7/site-packages (from ipywidgets>=7.5.0->ipycanvas) (5.1.4)\n",
      "Requirement already satisfied: nbformat>=4.2.0 in /home/marco/.local/lib/python3.7/site-packages (from ipywidgets>=7.5.0->ipycanvas) (5.0.4)\n",
      "Requirement already satisfied: ipython>=4.0.0; python_version >= \"3.3\" in /home/marco/.local/lib/python3.7/site-packages (from ipywidgets>=7.5.0->ipycanvas) (7.13.0)\n",
      "Requirement already satisfied: notebook>=4.4.1 in /home/marco/.local/lib/python3.7/site-packages (from widgetsnbextension~=3.5.0->ipywidgets>=7.5.0->ipycanvas) (6.0.3)\n",
      "Requirement already satisfied: decorator in /home/marco/.local/lib/python3.7/site-packages (from traitlets>=4.3.1->ipywidgets>=7.5.0->ipycanvas) (4.4.2)\n",
      "Requirement already satisfied: ipython-genutils in /home/marco/.local/lib/python3.7/site-packages (from traitlets>=4.3.1->ipywidgets>=7.5.0->ipycanvas) (0.2.0)\n",
      "Requirement already satisfied: six in /usr/lib64/python3.7/site-packages (from traitlets>=4.3.1->ipywidgets>=7.5.0->ipycanvas) (1.12.0)\n",
      "Requirement already satisfied: tornado>=4.2 in /home/marco/.local/lib/python3.7/site-packages (from ipykernel>=4.5.1->ipywidgets>=7.5.0->ipycanvas) (6.0.4)\n",
      "Requirement already satisfied: jupyter-client in /home/marco/.local/lib/python3.7/site-packages (from ipykernel>=4.5.1->ipywidgets>=7.5.0->ipycanvas) (6.0.0)\n",
      "Requirement already satisfied: jupyter-core in /home/marco/.local/lib/python3.7/site-packages (from nbformat>=4.2.0->ipywidgets>=7.5.0->ipycanvas) (4.6.3)\n",
      "Requirement already satisfied: jsonschema!=2.5.0,>=2.4 in /home/marco/.local/lib/python3.7/site-packages (from nbformat>=4.2.0->ipywidgets>=7.5.0->ipycanvas) (3.2.0)\n",
      "Requirement already satisfied: pygments in /usr/lib64/python3.7/site-packages (from ipython>=4.0.0; python_version >= \"3.3\"->ipywidgets>=7.5.0->ipycanvas) (2.3.1)\n",
      "Requirement already satisfied: pickleshare in /home/marco/.local/lib/python3.7/site-packages (from ipython>=4.0.0; python_version >= \"3.3\"->ipywidgets>=7.5.0->ipycanvas) (0.7.5)\n",
      "Requirement already satisfied: jedi>=0.10 in /home/marco/.local/lib/python3.7/site-packages (from ipython>=4.0.0; python_version >= \"3.3\"->ipywidgets>=7.5.0->ipycanvas) (0.16.0)\n",
      "Requirement already satisfied: prompt-toolkit!=3.0.0,!=3.0.1,<3.1.0,>=2.0.0 in /home/marco/.local/lib/python3.7/site-packages (from ipython>=4.0.0; python_version >= \"3.3\"->ipywidgets>=7.5.0->ipycanvas) (3.0.4)\n",
      "Requirement already satisfied: pexpect; sys_platform != \"win32\" in /home/marco/.local/lib/python3.7/site-packages (from ipython>=4.0.0; python_version >= \"3.3\"->ipywidgets>=7.5.0->ipycanvas) (4.8.0)\n",
      "Requirement already satisfied: setuptools>=18.5 in /usr/lib64/python3.7/site-packages (from ipython>=4.0.0; python_version >= \"3.3\"->ipywidgets>=7.5.0->ipycanvas) (41.0.1)\n",
      "Requirement already satisfied: backcall in /home/marco/.local/lib/python3.7/site-packages (from ipython>=4.0.0; python_version >= \"3.3\"->ipywidgets>=7.5.0->ipycanvas) (0.1.0)\n",
      "Requirement already satisfied: pyzmq>=17 in /home/marco/.local/lib/python3.7/site-packages (from notebook>=4.4.1->widgetsnbextension~=3.5.0->ipywidgets>=7.5.0->ipycanvas) (19.0.0)\n",
      "Requirement already satisfied: prometheus-client in /home/marco/.local/lib/python3.7/site-packages (from notebook>=4.4.1->widgetsnbextension~=3.5.0->ipywidgets>=7.5.0->ipycanvas) (0.7.1)\n",
      "Requirement already satisfied: jinja2 in /home/marco/.local/lib/python3.7/site-packages (from notebook>=4.4.1->widgetsnbextension~=3.5.0->ipywidgets>=7.5.0->ipycanvas) (2.11.1)\n",
      "Requirement already satisfied: nbconvert in /home/marco/.local/lib/python3.7/site-packages (from notebook>=4.4.1->widgetsnbextension~=3.5.0->ipywidgets>=7.5.0->ipycanvas) (5.6.1)\n",
      "Requirement already satisfied: terminado>=0.8.1 in /home/marco/.local/lib/python3.7/site-packages (from notebook>=4.4.1->widgetsnbextension~=3.5.0->ipywidgets>=7.5.0->ipycanvas) (0.8.3)\n",
      "Requirement already satisfied: Send2Trash in /home/marco/.local/lib/python3.7/site-packages (from notebook>=4.4.1->widgetsnbextension~=3.5.0->ipywidgets>=7.5.0->ipycanvas) (1.5.0)\n",
      "Requirement already satisfied: python-dateutil>=2.1 in /home/marco/.local/lib/python3.7/site-packages (from jupyter-client->ipykernel>=4.5.1->ipywidgets>=7.5.0->ipycanvas) (2.8.1)\n",
      "Requirement already satisfied: importlib-metadata; python_version < \"3.8\" in /home/marco/.local/lib/python3.7/site-packages (from jsonschema!=2.5.0,>=2.4->nbformat>=4.2.0->ipywidgets>=7.5.0->ipycanvas) (1.5.0)\n",
      "Requirement already satisfied: attrs>=17.4.0 in /home/marco/.local/lib/python3.7/site-packages (from jsonschema!=2.5.0,>=2.4->nbformat>=4.2.0->ipywidgets>=7.5.0->ipycanvas) (19.3.0)\n",
      "Requirement already satisfied: pyrsistent>=0.14.0 in /home/marco/.local/lib/python3.7/site-packages (from jsonschema!=2.5.0,>=2.4->nbformat>=4.2.0->ipywidgets>=7.5.0->ipycanvas) (0.15.7)\n",
      "Requirement already satisfied: parso>=0.5.2 in /home/marco/.local/lib/python3.7/site-packages (from jedi>=0.10->ipython>=4.0.0; python_version >= \"3.3\"->ipywidgets>=7.5.0->ipycanvas) (0.6.2)\n",
      "Requirement already satisfied: wcwidth in /home/marco/.local/lib/python3.7/site-packages (from prompt-toolkit!=3.0.0,!=3.0.1,<3.1.0,>=2.0.0->ipython>=4.0.0; python_version >= \"3.3\"->ipywidgets>=7.5.0->ipycanvas) (0.1.8)\n",
      "Requirement already satisfied: ptyprocess>=0.5 in /home/marco/.local/lib/python3.7/site-packages (from pexpect; sys_platform != \"win32\"->ipython>=4.0.0; python_version >= \"3.3\"->ipywidgets>=7.5.0->ipycanvas) (0.6.0)\n",
      "Requirement already satisfied: MarkupSafe>=0.23 in /home/marco/.local/lib/python3.7/site-packages (from jinja2->notebook>=4.4.1->widgetsnbextension~=3.5.0->ipywidgets>=7.5.0->ipycanvas) (1.1.1)\n",
      "Requirement already satisfied: testpath in /home/marco/.local/lib/python3.7/site-packages (from nbconvert->notebook>=4.4.1->widgetsnbextension~=3.5.0->ipywidgets>=7.5.0->ipycanvas) (0.4.4)\n",
      "Requirement already satisfied: defusedxml in /home/marco/.local/lib/python3.7/site-packages (from nbconvert->notebook>=4.4.1->widgetsnbextension~=3.5.0->ipywidgets>=7.5.0->ipycanvas) (0.6.0)\n",
      "Requirement already satisfied: pandocfilters>=1.4.1 in /home/marco/.local/lib/python3.7/site-packages (from nbconvert->notebook>=4.4.1->widgetsnbextension~=3.5.0->ipywidgets>=7.5.0->ipycanvas) (1.4.2)\n",
      "Requirement already satisfied: mistune<2,>=0.8.1 in /home/marco/.local/lib/python3.7/site-packages (from nbconvert->notebook>=4.4.1->widgetsnbextension~=3.5.0->ipywidgets>=7.5.0->ipycanvas) (0.8.4)\n",
      "Requirement already satisfied: entrypoints>=0.2.2 in /usr/lib64/python3.7/site-packages (from nbconvert->notebook>=4.4.1->widgetsnbextension~=3.5.0->ipywidgets>=7.5.0->ipycanvas) (0.3)\n",
      "Requirement already satisfied: bleach in /home/marco/.local/lib/python3.7/site-packages (from nbconvert->notebook>=4.4.1->widgetsnbextension~=3.5.0->ipywidgets>=7.5.0->ipycanvas) (3.1.1)\n",
      "Requirement already satisfied: zipp>=0.5 in /home/marco/.local/lib/python3.7/site-packages (from importlib-metadata; python_version < \"3.8\"->jsonschema!=2.5.0,>=2.4->nbformat>=4.2.0->ipywidgets>=7.5.0->ipycanvas) (3.1.0)\n",
      "Requirement already satisfied: webencodings in /home/marco/.local/lib/python3.7/site-packages (from bleach->nbconvert->notebook>=4.4.1->widgetsnbextension~=3.5.0->ipywidgets>=7.5.0->ipycanvas) (0.5.1)\n",
      "Installing collected packages: pillow, ipycanvas\n",
      "Successfully installed ipycanvas-0.4.4 pillow-7.0.0\n"
     ]
    }
   ],
   "source": [
    "!{sys.executable} -m pip install ipycanvas --user"
   ]
  },
  {
   "cell_type": "code",
   "execution_count": 8,
   "metadata": {},
   "outputs": [
    {
     "data": {
      "application/vnd.jupyter.widget-view+json": {
       "model_id": "f5b911d2362f4608a41c538c2e583a43",
       "version_major": 2,
       "version_minor": 0
      },
      "text/plain": [
       "Canvas(height=200, width=200)"
      ]
     },
     "metadata": {},
     "output_type": "display_data"
    }
   ],
   "source": [
    "\n",
    "from ipycanvas import Canvas\n",
    "\n",
    "canvas = Canvas(width=200, height=200)\n",
    "\n",
    "canvas.fill_rect(25, 25, 100, 100)\n",
    "\n",
    "canvas"
   ]
  },
  {
   "cell_type": "code",
   "execution_count": null,
   "metadata": {},
   "outputs": [],
   "source": []
  }
 ],
 "metadata": {
  "kernelspec": {
   "display_name": "Python 3",
   "language": "python",
   "name": "python3"
  },
  "language_info": {
   "codemirror_mode": {
    "name": "ipython",
    "version": 3
   },
   "file_extension": ".py",
   "mimetype": "text/x-python",
   "name": "python",
   "nbconvert_exporter": "python",
   "pygments_lexer": "ipython3",
   "version": "3.7.6"
  }
 },
 "nbformat": 4,
 "nbformat_minor": 4
}
